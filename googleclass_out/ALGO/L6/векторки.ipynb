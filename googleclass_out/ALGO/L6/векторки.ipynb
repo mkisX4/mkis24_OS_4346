{
  "nbformat": 4,
  "nbformat_minor": 0,
  "metadata": {
    "anaconda-cloud": {},
    "kernelspec": {
      "display_name": "Python 3",
      "language": "python",
      "name": "python3"
    },
    "language_info": {
      "codemirror_mode": {
        "name": "ipython",
        "version": 3
      },
      "file_extension": ".py",
      "mimetype": "text/x-python",
      "name": "python",
      "nbconvert_exporter": "python",
      "pygments_lexer": "ipython3",
      "version": "3.6.5"
    },
    "colab": {
      "name": "vector_operations.ipynb",
      "provenance": []
    }
  },
  "cells": [
    {
      "cell_type": "markdown",
      "metadata": {
        "id": "YzzrpC6cQVt3"
      },
      "source": [
        "# `NumPy`: векторы и операции над ними (Версия для Python 3)\n",
        "---"
      ]
    },
    {
      "cell_type": "markdown",
      "metadata": {
        "id": "go8VYqFIQVuA"
      },
      "source": [
        "В этом ноутбуке нам понадобятся библиотека `NumPy`. Для удобства импортируем ее под более коротким именем:"
      ]
    },
    {
      "cell_type": "code",
      "metadata": {
        "id": "9I8zSHe-QVuE"
      },
      "source": [
        "import numpy as np"
      ],
      "execution_count": null,
      "outputs": []
    },
    {
      "cell_type": "markdown",
      "metadata": {
        "id": "at5rCqqtQVuI"
      },
      "source": [
        "## 1. Создание векторов"
      ]
    },
    {
      "cell_type": "markdown",
      "metadata": {
        "id": "m6qw3YIsQVuL"
      },
      "source": [
        "Самый простой способ создать вектор в `NumPy` — задать его явно с помощью __`numpy.array(list, dtype=None, ...)`__.\n",
        "\n",
        "Параметр __`list`__ задает итерируемый объект, из которого можно создать вектор. Например, в качестве этого параметра можно задать список чисел. Параметр __`dtype`__ задает тип значений вектора, например, __`float`__ — для вещественных значений и __`int`__ — для целочисленных. Если этот параметр не задан, то тип данных будет определен из типа элементов первого аргумента. "
      ]
    },
    {
      "cell_type": "code",
      "metadata": {
        "id": "6Tw6Kf94QVuP",
        "outputId": "5438aafc-4f72-42a4-da17-7ee09351f7d0"
      },
      "source": [
        "a = np.array([1, 2, 3, 4])\n",
        "print('Вектор:\\n', a)"
      ],
      "execution_count": null,
      "outputs": [
        {
          "output_type": "stream",
          "text": [
            "Вектор:\n",
            " [1 2 3 4]\n"
          ],
          "name": "stdout"
        }
      ]
    },
    {
      "cell_type": "code",
      "metadata": {
        "id": "r0v6wM4uQVuT",
        "outputId": "8d49b7d8-6144-4d93-e701-9e379db2be87"
      },
      "source": [
        "b = np.array([1, 2, 3, 4, 5], dtype=float)\n",
        "print('Вещественный вектор:\\n', b)"
      ],
      "execution_count": null,
      "outputs": [
        {
          "output_type": "stream",
          "text": [
            "Вещественный вектор:\n",
            " [1. 2. 3. 4. 5.]\n"
          ],
          "name": "stdout"
        }
      ]
    },
    {
      "cell_type": "code",
      "metadata": {
        "id": "0S2SE98UQVuW",
        "outputId": "63419255-36a5-4a14-dc38-5c609b9e8666"
      },
      "source": [
        "c = np.array([True, False, True], dtype=bool)\n",
        "print('Булевский вектор:\\n', c)"
      ],
      "execution_count": null,
      "outputs": [
        {
          "output_type": "stream",
          "text": [
            "Булевский вектор:\n",
            " [ True False  True]\n"
          ],
          "name": "stdout"
        }
      ]
    },
    {
      "cell_type": "markdown",
      "metadata": {
        "id": "6LdkIJWfQVuZ"
      },
      "source": [
        "Тип значений вектора можно узнать с помощью __`numpy.ndarray.dtype`__:"
      ]
    },
    {
      "cell_type": "code",
      "metadata": {
        "id": "7DIhN7FrQVub",
        "outputId": "78f0aedd-b3ee-4e9d-e088-f3259af310a5"
      },
      "source": [
        "print('Тип булевского вектора:\\n', c.dtype)"
      ],
      "execution_count": null,
      "outputs": [
        {
          "output_type": "stream",
          "text": [
            "Тип булевского вектора:\n",
            " bool\n"
          ],
          "name": "stdout"
        }
      ]
    },
    {
      "cell_type": "markdown",
      "metadata": {
        "id": "xX_bosdnQVuf"
      },
      "source": [
        "Другим способом задания вектора является функция __`numpy.arange(([start, ]stop, [step, ]...)`__, которая задает последовательность чисел заданного типа из промежутка __[`start`, `stop`)__ через шаг __`step`__:"
      ]
    },
    {
      "cell_type": "code",
      "metadata": {
        "id": "Rgvw5UODQVuk",
        "outputId": "186dc3c1-d826-4e1d-dec6-259416f3fa84"
      },
      "source": [
        "d = np.arange(start=10, stop=20, step=2) # последнее значение не включается!\n",
        "print('Вектор чисел от 10 до 20 с шагом 2:\\n', d)"
      ],
      "execution_count": null,
      "outputs": [
        {
          "output_type": "stream",
          "text": [
            "Вектор чисел от 10 до 20 с шагом 2:\n",
            " [10 12 14 16 18]\n"
          ],
          "name": "stdout"
        }
      ]
    },
    {
      "cell_type": "code",
      "metadata": {
        "id": "GTIKHD1GQVun",
        "outputId": "9a98d80b-bccf-4e67-904c-9f29982b78ba"
      },
      "source": [
        "f = np.arange(start=0, stop=1, step=0.3, dtype=float)\n",
        "print('Вещественный вектор чисел от 0 до 1 с шагом 0.3:\\n', f)"
      ],
      "execution_count": null,
      "outputs": [
        {
          "output_type": "stream",
          "text": [
            "Вещественный вектор чисел от 0 до 1 с шагом 0.3:\n",
            " [0.  0.3 0.6 0.9]\n"
          ],
          "name": "stdout"
        }
      ]
    },
    {
      "cell_type": "markdown",
      "metadata": {
        "id": "SJDhNmKEQVup"
      },
      "source": [
        "По сути вектор в `NumPy` является одномерным массивом, что соответствует интуитивному определению вектора:"
      ]
    },
    {
      "cell_type": "code",
      "metadata": {
        "scrolled": true,
        "id": "6OZUnV69QVur",
        "outputId": "3d10aa95-2961-4f8f-c155-5a711f0199ce"
      },
      "source": [
        "print(c.ndim) # количество размерностей"
      ],
      "execution_count": null,
      "outputs": [
        {
          "output_type": "stream",
          "text": [
            "1\n"
          ],
          "name": "stdout"
        }
      ]
    },
    {
      "cell_type": "code",
      "metadata": {
        "id": "21l6K1cAQVut",
        "outputId": "afad70fb-5940-491f-e8f7-b7dd662f65c8"
      },
      "source": [
        "print(c.shape) # shape фактически задает длину вектора "
      ],
      "execution_count": null,
      "outputs": [
        {
          "output_type": "stream",
          "text": [
            "(3,)\n"
          ],
          "name": "stdout"
        }
      ]
    },
    {
      "cell_type": "markdown",
      "metadata": {
        "id": "HV4Esn4ZQVux"
      },
      "source": [
        "__Обратите внимание:__ _вектор _и одномерный массив тождественные понятия в `NumPy`. Помимо этого, также существуют понятия _вектор-столбец_ и _вектор-строка_, которые, несмотря на то что математически задают один и тот же объект, являются двумерными массивами и имеют другое значение поля __`shape`__ (в этом случае поле состоит из двух чисел, одно из которых равно единице). Эти тонкости будут рассмотрены в следующем уроке."
      ]
    },
    {
      "cell_type": "markdown",
      "metadata": {
        "id": "V-AxZs0VQVuy"
      },
      "source": [
        "Более подробно о том, как создавать векторы в `NumPy`, \n",
        "см. [документацию](http://docs.scipy.org/doc/numpy-1.10.1/user/basics.creation.html)."
      ]
    },
    {
      "cell_type": "markdown",
      "metadata": {
        "id": "6EB_XVpgQVuz"
      },
      "source": [
        "## 2. Операции над векторами"
      ]
    },
    {
      "cell_type": "markdown",
      "metadata": {
        "id": "6MocAeo3QVu0"
      },
      "source": [
        "Векторы в `NumPy` можно складывать, вычитать, умножать на число и умножать на другой вектор (покоординатно):"
      ]
    },
    {
      "cell_type": "code",
      "metadata": {
        "id": "TsERuvANQVu1",
        "outputId": "1567f782-6d75-439d-9482-44ee002c9447"
      },
      "source": [
        "a = np.array([1, 2, 3])\n",
        "b = np.array([6, 5, 4])\n",
        "k = 2\n",
        "\n",
        "print('Вектор a:', a)\n",
        "print('Вектор b:', b)\n",
        "print('Число k:', k)"
      ],
      "execution_count": null,
      "outputs": [
        {
          "output_type": "stream",
          "text": [
            "Вектор a: [1 2 3]\n",
            "Вектор b: [6 5 4]\n",
            "Число k: 2\n"
          ],
          "name": "stdout"
        }
      ]
    },
    {
      "cell_type": "code",
      "metadata": {
        "id": "IA669GTbQVu3",
        "outputId": "a774c9b2-bd3c-4a6d-d7fb-d8f8dde19cfc"
      },
      "source": [
        "print('Сумма a и b:\\n', a + b)"
      ],
      "execution_count": null,
      "outputs": [
        {
          "output_type": "stream",
          "text": [
            "Сумма a и b:\n",
            " [7 7 7]\n"
          ],
          "name": "stdout"
        }
      ]
    },
    {
      "cell_type": "code",
      "metadata": {
        "id": "vGtE4JV3QVu5",
        "outputId": "5d6b4cf5-e3e4-4425-96fc-a5d99e984ef5"
      },
      "source": [
        "print('Разность a и b:\\n', a - b)"
      ],
      "execution_count": null,
      "outputs": [
        {
          "output_type": "stream",
          "text": [
            "Разность a и b:\n",
            " [-5 -3 -1]\n"
          ],
          "name": "stdout"
        }
      ]
    },
    {
      "cell_type": "code",
      "metadata": {
        "id": "J_GBChWEQVu8",
        "outputId": "b2612234-780a-4a07-f062-d4af144c8085"
      },
      "source": [
        "print('Покоординатное умножение a и b:\\n', a * b )"
      ],
      "execution_count": null,
      "outputs": [
        {
          "output_type": "stream",
          "text": [
            "Покоординатное умножение a и b:\n",
            " [ 6 10 12]\n"
          ],
          "name": "stdout"
        }
      ]
    },
    {
      "cell_type": "code",
      "metadata": {
        "id": "k4kkyvCOQVu9",
        "outputId": "fbe8e8cb-1ea5-4ce5-d736-84a51fc8b5d4"
      },
      "source": [
        "print('Умножение вектора на число (осуществляется покоординатно):\\n', k * a)"
      ],
      "execution_count": null,
      "outputs": [
        {
          "output_type": "stream",
          "text": [
            "Умножение вектора на число (осуществляется покоординатно):\n",
            " [2 4 6]\n"
          ],
          "name": "stdout"
        }
      ]
    },
    {
      "cell_type": "markdown",
      "metadata": {
        "id": "nc55evejQVvA"
      },
      "source": [
        "## 3. Нормы векторов"
      ]
    },
    {
      "cell_type": "markdown",
      "metadata": {
        "id": "fjdaNLjKQVvB"
      },
      "source": [
        "Вспомним некоторые нормы, которые можно ввести в пространстве $\\mathbb{R}^{n}$, и рассмотрим, с помощью каких библиотек и функций их можно вычислять в `NumPy`."
      ]
    },
    {
      "cell_type": "markdown",
      "metadata": {
        "id": "vDH5ENNnQVvB"
      },
      "source": [
        "### p-норма"
      ]
    },
    {
      "cell_type": "markdown",
      "metadata": {
        "id": "Y66DLtlfQVvD"
      },
      "source": [
        "p-норма (норма Гёльдера) для вектора $x = (x_{1}, \\dots, x_{n}) \\in \\mathbb{R}^{n}$ вычисляется по формуле:\n",
        "\n",
        "$$\n",
        "\\left\\Vert x \\right\\Vert_{p} = \\left( \\sum_{i=1}^n \\left| x_{i} \\right|^{p} \\right)^{1 / p},~p \\geq 1.\n",
        "$$"
      ]
    },
    {
      "cell_type": "markdown",
      "metadata": {
        "id": "7YyEaWSmQVvE"
      },
      "source": [
        "В частных случаях при:\n",
        "* $p = 1$ получаем $\\ell_{1}$ норму\n",
        "* $p = 2$ получаем $\\ell_{2}$ норму"
      ]
    },
    {
      "cell_type": "markdown",
      "metadata": {
        "id": "SjPuB0BuQVvE"
      },
      "source": [
        "Далее нам понабится модуль `numpy.linalg`, реализующий некоторые приложения линейной алгебры. Для вычисления различных норм мы используем функцию __`numpy.linalg.norm(x, ord=None, ...)`__, где __`x`__ — исходный вектор, __`ord`__ — параметр, определяющий норму (мы рассмотрим два варианта его значений — 1 и 2). Импортируем эту функцию:"
      ]
    },
    {
      "cell_type": "code",
      "metadata": {
        "id": "wH67sN4OQVvG"
      },
      "source": [
        "from numpy.linalg import norm"
      ],
      "execution_count": null,
      "outputs": []
    },
    {
      "cell_type": "markdown",
      "metadata": {
        "id": "jk_ipdSzQVvH"
      },
      "source": [
        "### $\\ell_{1}$ норма"
      ]
    },
    {
      "cell_type": "markdown",
      "metadata": {
        "id": "cwTFNkeoQVvH"
      },
      "source": [
        "$\\ell_{1}$ норма \n",
        "(также известная как [манхэттенское расстояние](https://ru.wikipedia.org/wiki/%D0%A0%D0%B0%D1%81%D1%81%D1%82%D0%BE%D1%8F%D0%BD%D0%B8%D0%B5_%D0%B3%D0%BE%D1%80%D0%BE%D0%B4%D1%81%D0%BA%D0%B8%D1%85_%D0%BA%D0%B2%D0%B0%D1%80%D1%82%D0%B0%D0%BB%D0%BE%D0%B2))\n",
        "для вектора $x = (x_{1}, \\dots, x_{n}) \\in \\mathbb{R}^{n}$ вычисляется по формуле:\n",
        "\n",
        "$$\n",
        " \\left\\Vert x \\right\\Vert_{1} = \\sum_{i=1}^n \\left| x_{i} \\right|.\n",
        "$$"
      ]
    },
    {
      "cell_type": "markdown",
      "metadata": {
        "id": "y5auh59wQVvJ"
      },
      "source": [
        "Ей в функции __`numpy.linalg.norm(x, ord=None, ...)`__ соответствует параметр __`ord=1`__."
      ]
    },
    {
      "cell_type": "code",
      "metadata": {
        "id": "Eu2cD7OmQVvK",
        "outputId": "083a6b24-9787-424e-a511-cd083696ec11"
      },
      "source": [
        "a = np.array([1, 2, -3])\n",
        "print('Вектор a:', a)"
      ],
      "execution_count": null,
      "outputs": [
        {
          "output_type": "stream",
          "text": [
            "Вектор a: [ 1  2 -3]\n"
          ],
          "name": "stdout"
        }
      ]
    },
    {
      "cell_type": "code",
      "metadata": {
        "id": "z3WX1EKnQVvL",
        "outputId": "02a36a77-64f7-4a22-f7ea-af422965b216"
      },
      "source": [
        "print('L1 норма вектора a:\\n', norm(a, ord=1))"
      ],
      "execution_count": null,
      "outputs": [
        {
          "output_type": "stream",
          "text": [
            "L1 норма вектора a:\n",
            " 6.0\n"
          ],
          "name": "stdout"
        }
      ]
    },
    {
      "cell_type": "markdown",
      "metadata": {
        "id": "QZgTkX71QVvN"
      },
      "source": [
        "### $\\ell_{2}$ норма"
      ]
    },
    {
      "cell_type": "markdown",
      "metadata": {
        "id": "QazcZ_GBQVvO"
      },
      "source": [
        "$\\ell_{2}$ норма (также известная как евклидова норма)\n",
        "для вектора $x = (x_{1}, \\dots, x_{n}) \\in \\mathbb{R}^{n}$ вычисляется по формуле:\n",
        "\n",
        "$$\n",
        " \\left\\Vert x \\right\\Vert_{2} = \\sqrt{\\sum_{i=1}^n \\left( x_{i} \\right)^2}.\n",
        "$$"
      ]
    },
    {
      "cell_type": "markdown",
      "metadata": {
        "id": "WM4ud435QVvP"
      },
      "source": [
        "Ей в функции __`numpy.linalg.norm(x, ord=None, ...)`__ соответствует параметр __`ord=2`__."
      ]
    },
    {
      "cell_type": "code",
      "metadata": {
        "id": "YnJCH8v2QVvQ",
        "outputId": "d9c51a62-0669-457f-dce9-b845ee478ecd"
      },
      "source": [
        "a = np.array([1, 2, -3])\n",
        "print('Вектор a:', a)"
      ],
      "execution_count": null,
      "outputs": [
        {
          "output_type": "stream",
          "text": [
            "Вектор a: [ 1  2 -3]\n"
          ],
          "name": "stdout"
        }
      ]
    },
    {
      "cell_type": "code",
      "metadata": {
        "id": "lBn6zN1gQVvR",
        "outputId": "0d3f060a-df11-443a-f1ef-acaad765bf87"
      },
      "source": [
        "print('L2 норма вектора a:\\n', norm(a, ord=2))"
      ],
      "execution_count": null,
      "outputs": [
        {
          "output_type": "stream",
          "text": [
            "L2 норма вектора a:\n",
            " 3.7416573867739413\n"
          ],
          "name": "stdout"
        }
      ]
    },
    {
      "cell_type": "markdown",
      "metadata": {
        "id": "ln5U7l6LQVvT"
      },
      "source": [
        "Более подробно о том, какие еще нормы (в том числе матричные) можно вычислить, см. [документацию](http://docs.scipy.org/doc/numpy-1.10.0/reference/generated/numpy.linalg.norm.html). "
      ]
    },
    {
      "cell_type": "markdown",
      "metadata": {
        "id": "cfkCfGm_QVvU"
      },
      "source": [
        "## 4. Расстояния между векторами"
      ]
    },
    {
      "cell_type": "markdown",
      "metadata": {
        "id": "QNjjbs1QQVvV"
      },
      "source": [
        "Для двух векторов $x = (x_{1}, \\dots, x_{n}) \\in \\mathbb{R}^{n}$ и $y = (y_{1}, \\dots, y_{n}) \\in \\mathbb{R}^{n}$ $\\ell_{1}$ и $\\ell_{2}$ раccтояния вычисляются по следующим формулам соответственно:\n",
        "\n",
        "$$\n",
        " \\rho_{1}\\left( x, y \\right) = \\left\\Vert x - y \\right\\Vert_{1} = \\sum_{i=1}^n \\left| x_{i} - y_{i} \\right|\n",
        "$$\n",
        "\n",
        "$$\n",
        " \\rho_{2}\\left( x, y \\right) = \\left\\Vert x - y \\right\\Vert_{2} = \n",
        " \\sqrt{\\sum_{i=1}^n \\left( x_{i} - y_{i} \\right)^2}.\n",
        "$$"
      ]
    },
    {
      "cell_type": "code",
      "metadata": {
        "id": "-o0tRBCVQVvW",
        "outputId": "640767a6-ab14-4c54-d13f-e2efe61cfd59"
      },
      "source": [
        "a = np.array([1, 2, -3])\n",
        "b = np.array([-4, 3, 8])\n",
        "print('Вектор a:', a)\n",
        "print('Вектор b:', b)"
      ],
      "execution_count": null,
      "outputs": [
        {
          "output_type": "stream",
          "text": [
            "Вектор a: [ 1  2 -3]\n",
            "Вектор b: [-4  3  8]\n"
          ],
          "name": "stdout"
        }
      ]
    },
    {
      "cell_type": "code",
      "metadata": {
        "id": "kG66fWsrQVvX",
        "outputId": "886baab9-b8e2-4418-f675-805b75cb2050"
      },
      "source": [
        "print('L1 расстояние между векторами a и b:\\n', norm(a - b, ord=1))"
      ],
      "execution_count": null,
      "outputs": [
        {
          "output_type": "stream",
          "text": [
            "L1 расстояние между векторами a и b:\n",
            " 17.0\n"
          ],
          "name": "stdout"
        }
      ]
    },
    {
      "cell_type": "code",
      "metadata": {
        "id": "29WcOFojQVvZ",
        "outputId": "d5a393f4-504f-4d48-a71a-830a82812e11"
      },
      "source": [
        "print('L2 расстояние между векторами a и b:\\n', norm(a - b, ord=2))"
      ],
      "execution_count": null,
      "outputs": [
        {
          "output_type": "stream",
          "text": [
            "L2 расстояние между векторами a и b:\n",
            " 12.12435565298214\n"
          ],
          "name": "stdout"
        }
      ]
    },
    {
      "cell_type": "markdown",
      "metadata": {
        "id": "27JKGCutQVvb"
      },
      "source": [
        "Также расстояние между векторами можно посчитать с помощью функции __`scipy.spatial.distance.cdist(XA, XB, metric='euclidean', p=2, ...)`__ из модуля `SciPy`, предназначенного для выполнения научных и инженерных расчётов. "
      ]
    },
    {
      "cell_type": "code",
      "metadata": {
        "id": "u908lvNLQVvc"
      },
      "source": [
        "from scipy.spatial.distance import cdist"
      ],
      "execution_count": null,
      "outputs": []
    },
    {
      "cell_type": "markdown",
      "metadata": {
        "id": "e8vyy4HQQVvf"
      },
      "source": [
        "__`scipy.spatial.distance.cdist(...)`__ требует, чтобы размерность __`XA`__ и __`XB`__ была как минимум двумерная. По этой причине для использования этой функции необходимо преобразовать _векторы_, которые мы рассматриваем в этом ноутбуке, к _вектор-строкам_ с помощью способов, которые мы рассмотрим ниже. "
      ]
    },
    {
      "cell_type": "markdown",
      "metadata": {
        "id": "18oE73llQVvg"
      },
      "source": [
        "Параметры __`XA, XB`__ — исходные вектор-строки, а __`metric`__ и __`p`__ задают метрику расстояния\n",
        "(более подробно о том, какие метрики можно использовать, см. [документацию](http://docs.scipy.org/doc/scipy-0.16.0/reference/generated/scipy.spatial.distance.cdist.html))."
      ]
    },
    {
      "cell_type": "markdown",
      "metadata": {
        "id": "Nnq_1OC_QVvh"
      },
      "source": [
        "Первый способ из _вектора_ сделать _вектор-строку (вектор-столбец)_ — это использовать _метод_ __`array.reshape(shape)`__, где параметр __`shape`__ задает размерность вектора (кортеж чисел)."
      ]
    },
    {
      "cell_type": "code",
      "metadata": {
        "scrolled": true,
        "id": "VeyUsndTQVvj",
        "outputId": "fde86ede-6b55-4ab4-d435-43473bd87979"
      },
      "source": [
        "a = np.array([6, 3, -5])\n",
        "b = np.array([-1, 0, 7])\n",
        "print('Вектор a:', a)\n",
        "print('Его размерность:', a.shape)\n",
        "print('Вектор b:', b)\n",
        "print('Его размерность:', b.shape)"
      ],
      "execution_count": null,
      "outputs": [
        {
          "output_type": "stream",
          "text": [
            "Вектор a: [ 6  3 -5]\n",
            "Его размерность: (3,)\n",
            "Вектор b: [-1  0  7]\n",
            "Его размерность: (3,)\n"
          ],
          "name": "stdout"
        }
      ]
    },
    {
      "cell_type": "code",
      "metadata": {
        "id": "D2-wEvrZQVvl",
        "outputId": "748878b2-6546-4c47-8342-fddf46d73166"
      },
      "source": [
        "a = a.reshape((1, 3))\n",
        "b = b.reshape((1, 3))\n",
        "print('После применения метода reshape:\\n')\n",
        "print('Вектор-строка a:', a)\n",
        "print('Его размерность:', a.shape)\n",
        "print('Вектор-строка b:', b)\n",
        "print('Его размерность:', b.shape)"
      ],
      "execution_count": null,
      "outputs": [
        {
          "output_type": "stream",
          "text": [
            "После применения метода reshape:\n",
            "\n",
            "Вектор-строка a: [[ 6  3 -5]]\n",
            "Его размерность: (1, 3)\n",
            "Вектор-строка b: [[-1  0  7]]\n",
            "Его размерность: (1, 3)\n"
          ],
          "name": "stdout"
        }
      ]
    },
    {
      "cell_type": "code",
      "metadata": {
        "id": "8Lh1ZmqpQVvn",
        "outputId": "8db39bc0-15d2-42f8-fabc-d4444b93864e"
      },
      "source": [
        "print('Манхэттенское расстояние между a и b (через cdist):', cdist(a, b, metric='cityblock'))"
      ],
      "execution_count": null,
      "outputs": [
        {
          "output_type": "stream",
          "text": [
            "Манхэттенское расстояние между a и b (через cdist): [[22.]]\n"
          ],
          "name": "stdout"
        }
      ]
    },
    {
      "cell_type": "markdown",
      "metadata": {
        "id": "wTAUk6CyQVvo"
      },
      "source": [
        "Заметим, что после применения этого метода размерность полученных вектор-строк будет равна __`shape`__. Следующий метод позволяет сделать такое же преобразование, но не изменяет размерность исходного вектора.  "
      ]
    },
    {
      "cell_type": "markdown",
      "metadata": {
        "id": "YY2VoZl9QVvp"
      },
      "source": [
        "В `NumPy` к размерностям объектов можно добавлять фиктивные оси с помощью __`np.newaxis`__. Для того, чтобы понять, как это сделать, рассмотрим пример:"
      ]
    },
    {
      "cell_type": "code",
      "metadata": {
        "id": "GgVBZ7i4QVvq",
        "outputId": "3c108479-7c23-4d71-bc5d-3dbc1327e27f"
      },
      "source": [
        "d = np.array([3, 0, 8, 9, -10])\n",
        "print('Вектор d:', d)\n",
        "print('Его размерность:', d.shape)"
      ],
      "execution_count": null,
      "outputs": [
        {
          "output_type": "stream",
          "text": [
            "Вектор d: [  3   0   8   9 -10]\n",
            "Его размерность: (5,)\n"
          ],
          "name": "stdout"
        }
      ]
    },
    {
      "cell_type": "code",
      "metadata": {
        "id": "OjCNiVLqQVvr",
        "outputId": "ba804dc6-0592-400a-97bc-8fde4deb80af"
      },
      "source": [
        "print ('Вектор d с newaxis --> вектор-строка:\\n', d[np.newaxis, :])\n",
        "print ('Полученная размерность:', d[np.newaxis, :].shape)\n",
        "\n",
        "print ('Вектор d с newaxis --> вектор-столбец:\\n', d[:, np.newaxis])\n",
        "print ('Полученная размерность:', d[:, np.newaxis].shape)"
      ],
      "execution_count": null,
      "outputs": [
        {
          "output_type": "stream",
          "text": [
            "Вектор d с newaxis --> вектор-строка:\n",
            " [[  3   0   8   9 -10]]\n",
            "Полученная размерность: (1, 5)\n",
            "Вектор d с newaxis --> вектор-столбец:\n",
            " [[  3]\n",
            " [  0]\n",
            " [  8]\n",
            " [  9]\n",
            " [-10]]\n",
            "Полученная размерность: (5, 1)\n"
          ],
          "name": "stdout"
        }
      ]
    },
    {
      "cell_type": "markdown",
      "metadata": {
        "id": "9M9eRBMnQVvt"
      },
      "source": [
        "Важно, что __`np.newaxis`__ добавляет к размерности ось, длина которой равна 1 (это и логично, так как количество элементов должно сохраняться). Таким образом, надо вставлять новую ось там, где нужна единица в размерности. "
      ]
    },
    {
      "cell_type": "markdown",
      "metadata": {
        "id": "b1ILwNvOQVvt"
      },
      "source": [
        "Теперь посчитаем расстояния с помощью __`scipy.spatial.distance.cdist(...)`__, используя __`np.newaxis`__ для преобразования векторов:"
      ]
    },
    {
      "cell_type": "code",
      "metadata": {
        "scrolled": true,
        "id": "ZVBp3bfxQVvu",
        "outputId": "57c51fcf-a0ca-449b-f19b-625fe37aea50"
      },
      "source": [
        "a = np.array([6, 3, -5])\n",
        "b = np.array([-1, 0, 7])\n",
        "print ('Евклидово расстояние между a и b (через cdist):', cdist(a[np.newaxis, :], \n",
        "                                                               b[np.newaxis, :], \n",
        "                                                               metric='euclidean'))"
      ],
      "execution_count": null,
      "outputs": [
        {
          "output_type": "stream",
          "text": [
            "Евклидово расстояние между a и b (через cdist): [[14.2126704]]\n"
          ],
          "name": "stdout"
        }
      ]
    },
    {
      "cell_type": "markdown",
      "metadata": {
        "id": "sGhsjyXsQVvw"
      },
      "source": [
        "Эта функция также позволяет вычислять попарные расстояния между множествами векторов. Например, пусть у нас имеется матрица размера $m_{A} \\times n$. Мы можем рассматривать ее как описание некоторых $m_{A}$ наблюдений в $n$-мерном пространстве. Пусть также имеется еще одна аналогичная матрица размера $m_{B} \\times n$, где  $m_{B}$ векторов в том же $n$-мерном пространстве. Часто необходимо посчитать попарные расстояния между векторами первого и второго множеств. В этом случае можно пользоваться функцией __`scipy.spatial.distance.cdist(XA, XB, metric='euclidean', p=2, ...)`__, где в качестве __`XA, XB`__ необходимо передать две описанные матрицы. Функция возвращает матрицу попарных расстояний размера $m_{A} \\times m_{B}$, где элемент матрицы на $[i, j]$-ой позиции равен расстоянию между $i$-тым вектором первого множества и $j$-ым вектором второго множества. \n",
        "\n",
        "В данном случае эта функция предподчительнее __`numpy.linalg.norm(...)`__, так как она вычисляет попарные расстояния быстрее и эффективнее. "
      ]
    },
    {
      "cell_type": "markdown",
      "metadata": {
        "id": "GaNLlTW_QVvx"
      },
      "source": [
        "## 5. Скалярное произведение и угол между векторами"
      ]
    },
    {
      "cell_type": "code",
      "metadata": {
        "id": "Sq4QGInKQVvy",
        "outputId": "3fd43d1c-b190-4c8b-f83e-fdcd11a604f3"
      },
      "source": [
        "a = np.array([0, 5, -1])\n",
        "b = np.array([-4, 9, 3])\n",
        "print('Вектор a:', a)\n",
        "print('Вектор b:', b)"
      ],
      "execution_count": null,
      "outputs": [
        {
          "output_type": "stream",
          "text": [
            "Вектор a: [ 0  5 -1]\n",
            "Вектор b: [-4  9  3]\n"
          ],
          "name": "stdout"
        }
      ]
    },
    {
      "cell_type": "markdown",
      "metadata": {
        "id": "slgUrAkPQVvz"
      },
      "source": [
        "Скалярное произведение в пространстве $\\mathbb{R}^{n}$ для двух векторов $x = (x_{1}, \\dots, x_{n})$ и $y = (y_{1}, \\dots, y_{n})$ определяется как:\n",
        "\n",
        "$$\n",
        "\\langle x, y \\rangle = \\sum_{i=1}^n x_{i} y_{i}.\n",
        "$$"
      ]
    },
    {
      "cell_type": "markdown",
      "metadata": {
        "id": "RKq5kd5fQVv0"
      },
      "source": [
        "Скалярное произведение двух векторов можно вычислять с помощью функции __`numpy.dot(a, b, ...)`__ или _метода_ __`vec1.dot(vec2)`__, где __`vec1`__ и __`vec2`__ — исходные векторы. Также эти функции подходят для матричного умножения, о котором речь пойдет в следующем уроке. "
      ]
    },
    {
      "cell_type": "code",
      "metadata": {
        "id": "prjB-ZXqQVv1",
        "outputId": "b9c3b198-9660-4773-abb8-d82178a989d4"
      },
      "source": [
        "print('Скалярное произведение a и b (через функцию):', np.dot(a, b))"
      ],
      "execution_count": null,
      "outputs": [
        {
          "output_type": "stream",
          "text": [
            "Скалярное произведение a и b (через функцию): 42\n"
          ],
          "name": "stdout"
        }
      ]
    },
    {
      "cell_type": "code",
      "metadata": {
        "id": "t41MLFG4QVv2",
        "outputId": "63703b9e-e0c3-48f5-c06f-ab19b6962af9"
      },
      "source": [
        "print('Скалярное произведение a и b (через метод):', a.dot(b))"
      ],
      "execution_count": null,
      "outputs": [
        {
          "output_type": "stream",
          "text": [
            "Скалярное произведение a и b (через метод): 42\n"
          ],
          "name": "stdout"
        }
      ]
    },
    {
      "cell_type": "markdown",
      "metadata": {
        "id": "rKL2S8WWQVwO"
      },
      "source": [
        "Длиной вектора $x = (x_{1}, \\dots, x_{n}) \\in \\mathbb{R}^{n}$ называется квадратный корень из скалярного произведения, то есть длина равна евклидовой норме вектора:\n",
        "\n",
        "$$\n",
        "\\left| x \\right| = \\sqrt{\\langle x, x \\rangle} = \\sqrt{\\sum_{i=1}^n x_{i}^2} =  \\left\\Vert x \\right\\Vert_{2}.\n",
        "$$"
      ]
    },
    {
      "cell_type": "markdown",
      "metadata": {
        "id": "1MLc3p0YQVwQ"
      },
      "source": [
        "Теперь, когда мы знаем расстояние между двумя ненулевыми векторами и их длины, мы можем вычислить угол между ними через скалярное произведение:\n",
        "\n",
        "$$\n",
        "\\langle x, y \\rangle = \\left| x \\right| | y | \\cos(\\alpha)\n",
        "\\implies \\cos(\\alpha) = \\frac{\\langle x, y \\rangle}{\\left|| x |\\right| || y ||},\n",
        "$$\n",
        "\n",
        "где $\\alpha \\in [0, \\pi]$ — угол между векторами $x$ и $y$."
      ]
    },
    {
      "cell_type": "code",
      "metadata": {
        "id": "U-2zaIihQVwR",
        "outputId": "fa5af174-30ff-4ae7-f505-32f32d2c6075"
      },
      "source": [
        "cos_angle = np.dot(a, b) / norm(a) / norm(b)\n",
        "print('Косинус угла между a и b:', cos_angle)\n",
        "print('Сам угол:', np.arccos(cos_angle))"
      ],
      "execution_count": null,
      "outputs": [
        {
          "output_type": "stream",
          "text": [
            "Косинус угла между a и b: 0.8000362836474323\n",
            "Сам угол: 0.6434406336093618\n"
          ],
          "name": "stdout"
        }
      ]
    },
    {
      "cell_type": "markdown",
      "metadata": {
        "id": "gC8BuZjAQVwS"
      },
      "source": [
        "Более подробно о том, как вычислять скалярное произведение в `NumPy`, \n",
        "см. [документацию](http://docs.scipy.org/doc/numpy/reference/routines.linalg.html#matrix-and-vector-products)."
      ]
    }
  ]
}