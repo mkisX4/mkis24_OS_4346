{
  "nbformat": 4,
  "nbformat_minor": 0,
  "metadata": {
    "kernelspec": {
      "display_name": "Python 3",
      "language": "python",
      "name": "python3"
    },
    "language_info": {
      "codemirror_mode": {
        "name": "ipython",
        "version": 3
      },
      "file_extension": ".py",
      "mimetype": "text/x-python",
      "name": "python",
      "nbconvert_exporter": "python",
      "pygments_lexer": "ipython3",
      "version": "3.5.5"
    },
    "colab": {
      "name": "scipy=optimization.ipynb",
      "provenance": []
    }
  },
  "cells": [
    {
      "cell_type": "markdown",
      "metadata": {
        "id": "ZJppoyotM0ur"
      },
      "source": [
        "# Решение оптимизационных задач в SciPy (Версия для Python 3)"
      ]
    },
    {
      "cell_type": "code",
      "metadata": {
        "id": "2ltuWOnjM0vD"
      },
      "source": [
        "from scipy import optimize"
      ],
      "execution_count": null,
      "outputs": []
    },
    {
      "cell_type": "code",
      "metadata": {
        "id": "FR2mmM4RM0vI",
        "outputId": "11db14ce-af04-490f-e3d7-ef880be35d02"
      },
      "source": [
        "def f(x):   # The rosenbrock function\n",
        "    return .5*(1 - x[0])**2 + (x[1] - x[0]**2)**2\n",
        "    \n",
        "print(f([1, 1]))"
      ],
      "execution_count": null,
      "outputs": [
        {
          "output_type": "stream",
          "text": [
            "0.0\n"
          ],
          "name": "stdout"
        }
      ]
    },
    {
      "cell_type": "code",
      "metadata": {
        "id": "lFLoF-cgM0vQ",
        "outputId": "6bfce3d8-ba90-4016-c1dd-d948f457506c"
      },
      "source": [
        "result = optimize.brute(f, ((-5, 5), (-5, 5)))\n",
        "print(result)"
      ],
      "execution_count": null,
      "outputs": [
        {
          "output_type": "stream",
          "text": [
            "[0.99999324 1.00001283]\n"
          ],
          "name": "stdout"
        }
      ]
    },
    {
      "cell_type": "code",
      "metadata": {
        "id": "8k9S0bxUM0vU",
        "outputId": "49355c8b-db32-4aef-8a3c-31aa057734d0"
      },
      "source": [
        "print(optimize.differential_evolution(f, ((-5, 5), (-5, 5))))"
      ],
      "execution_count": null,
      "outputs": [
        {
          "output_type": "stream",
          "text": [
            "     fun: 7.395570986446986e-32\n",
            " message: 'Optimization terminated successfully.'\n",
            "    nfev: 3393\n",
            "     nit: 112\n",
            " success: True\n",
            "       x: array([1., 1.])\n"
          ],
          "name": "stdout"
        }
      ]
    },
    {
      "cell_type": "code",
      "metadata": {
        "id": "o0QHRizEM0vX"
      },
      "source": [
        "import numpy as np\n",
        "\n",
        "def g(x):\n",
        "        return np.array((-2*.5*(1 - x[0]) - 4*x[0]*(x[1] - x[0]**2), 2*(x[1] - x[0]**2)))"
      ],
      "execution_count": null,
      "outputs": []
    },
    {
      "cell_type": "code",
      "metadata": {
        "id": "P1U1zYTVM0vb",
        "outputId": "49aaf3b5-0841-42e9-c1cc-d7b2baa778e7"
      },
      "source": [
        "print(optimize.check_grad(f, g, [2, 2]))"
      ],
      "execution_count": null,
      "outputs": [
        {
          "output_type": "stream",
          "text": [
            "2.384185791015625e-07\n"
          ],
          "name": "stdout"
        }
      ]
    },
    {
      "cell_type": "code",
      "metadata": {
        "id": "YHWI_HInM0vd",
        "outputId": "e1a415c6-6b2e-43f6-ab8b-8be4180d511e"
      },
      "source": [
        "print(optimize.fmin_bfgs(f, [2, 2], fprime=g))"
      ],
      "execution_count": null,
      "outputs": [
        {
          "output_type": "stream",
          "text": [
            "Optimization terminated successfully.\n",
            "         Current function value: 0.000000\n",
            "         Iterations: 8\n",
            "         Function evaluations: 9\n",
            "         Gradient evaluations: 9\n",
            "[1.00000582 1.00001285]\n"
          ],
          "name": "stdout"
        }
      ]
    },
    {
      "cell_type": "code",
      "metadata": {
        "id": "dO03kmRvM0vh",
        "outputId": "bd4c1c73-0942-4e45-c54c-89cc6bfc1c1d"
      },
      "source": [
        "print(optimize.minimize(f, [2, 2]))"
      ],
      "execution_count": null,
      "outputs": [
        {
          "output_type": "stream",
          "text": [
            "      fun: 1.7838045907468558e-11\n",
            " hess_inv: array([[0.95489061, 1.90006632],\n",
            "       [1.90006632, 4.27872378]])\n",
            "      jac: array([9.88093227e-07, 2.41749084e-06])\n",
            "  message: 'Optimization terminated successfully.'\n",
            "     nfev: 36\n",
            "      nit: 8\n",
            "     njev: 9\n",
            "   status: 0\n",
            "  success: True\n",
            "        x: array([1.00000573, 1.00001265])\n"
          ],
          "name": "stdout"
        }
      ]
    },
    {
      "cell_type": "code",
      "metadata": {
        "id": "jRhLWrqUM0vk",
        "outputId": "ee3b90cd-80f1-44a3-a2ce-7e580333c316"
      },
      "source": [
        "print(optimize.minimize(f, [2, 2], method='BFGS'))"
      ],
      "execution_count": null,
      "outputs": [
        {
          "output_type": "stream",
          "text": [
            "      fun: 1.7838045907468558e-11\n",
            " hess_inv: array([[0.95489061, 1.90006632],\n",
            "       [1.90006632, 4.27872378]])\n",
            "      jac: array([9.88093227e-07, 2.41749084e-06])\n",
            "  message: 'Optimization terminated successfully.'\n",
            "     nfev: 36\n",
            "      nit: 8\n",
            "     njev: 9\n",
            "   status: 0\n",
            "  success: True\n",
            "        x: array([1.00000573, 1.00001265])\n"
          ],
          "name": "stdout"
        }
      ]
    },
    {
      "cell_type": "code",
      "metadata": {
        "id": "QEWNk-0NM0vm",
        "outputId": "25acb2c5-ef8d-4351-c496-e77bd0713430"
      },
      "source": [
        "print(optimize.minimize(f, [2, 2], method='Nelder-Mead'))"
      ],
      "execution_count": null,
      "outputs": [
        {
          "output_type": "stream",
          "text": [
            " final_simplex: (array([[0.99998568, 0.99996682],\n",
            "       [1.00002149, 1.00004744],\n",
            "       [1.0000088 , 1.00003552]]), array([1.23119954e-10, 2.50768082e-10, 3.59639951e-10]))\n",
            "           fun: 1.2311995365407462e-10\n",
            "       message: 'Optimization terminated successfully.'\n",
            "          nfev: 91\n",
            "           nit: 46\n",
            "        status: 0\n",
            "       success: True\n",
            "             x: array([0.99998568, 0.99996682])\n"
          ],
          "name": "stdout"
        }
      ]
    }
  ]
}